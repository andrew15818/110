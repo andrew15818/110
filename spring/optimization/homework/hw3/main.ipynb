{
 "cells": [
  {
   "cell_type": "markdown",
   "id": "be0b325c",
   "metadata": {},
   "source": [
    "# Optimization Homework 3\n",
    "Here are just some simple codes for the homework.\n",
    "I follow [Numerical Recipes in C](https://www.cec.uchile.cl/cinetica/pcordero/MC_libros/NumericalRecipesinC.pdf)\n",
    "for the overall algorithm.\n",
    "\n",
    "For the first part of the problem we find the linear approximation of this set of points."
   ]
  },
  {
   "cell_type": "code",
   "execution_count": 44,
   "id": "6ccd049a",
   "metadata": {},
   "outputs": [],
   "source": [
    "import numpy as np\n",
    "import matplotlib.pyplot as plt\n",
    "from sklearn.linear_model import LinearRegression # For comparision"
   ]
  },
  {
   "cell_type": "code",
   "execution_count": 34,
   "id": "4f8cb1cb",
   "metadata": {},
   "outputs": [
    {
     "data": {
      "text/plain": [
       "[<matplotlib.lines.Line2D at 0x7f5709bb31c0>]"
      ]
     },
     "execution_count": 34,
     "metadata": {},
     "output_type": "execute_result"
    },
    {
     "data": {
      "image/png": "[encoded data removed]",
      "text/plain": [
       "<Figure size 432x288 with 1 Axes>"
      ]
     },
     "metadata": {
      "needs_background": "light"
     },
     "output_type": "display_data"
    }
   ],
   "source": [
    "X = np.array([0.1, 0.9, 1.9, 2.3, 3, 4.1, 5.2, 5.9, 6.8, 8.1,\n",
    "    8.7, 9.2, 10.1, 12])\n",
    "Y = np.array([20, 24, 27, 29, 32, 37.3, 36.4, 32.4, 28.5,\n",
    "             30, 38, 43, 40, 32])\n",
    "plt.plot(X, Y, '.')"
   ]
  },
  {
   "cell_type": "markdown",
   "id": "7d96d7e4",
   "metadata": {},
   "source": [
    "# Variance\n",
    "In the book they assume that each point has its own variance $\\sigma_i$, but here we just use the same $\\sigma$ for all the points.\n",
    "\n",
    "The terms of the formula are:\n",
    "$$ S = \\sum_{i=1}^{N}\\frac{1}{\\sigma^2_i}\\quad S_x=\\sum_{i=1}^{N}\\frac{x_i}{\\sigma^2_i} \\quad S_y = \\sum_{i=1}^{N}\\frac{y_i}{\\sigma_i^2}$$\n",
    "$$S_{xx} = \\sum_{i=1}^{N}\\frac{x_i^2}{\\sigma_i^2}\\quad S_{xy}=\\sum_{i=1}^{N}\\frac{x_i y_i}{\\sigma_i^2}$$"
   ]
  },
  {
   "cell_type": "code",
   "execution_count": 68,
   "id": "2b92081a",
   "metadata": {},
   "outputs": [],
   "source": [
    "def optimize(X, Y):\n",
    "    m, b = 0, 0\n",
    "    npoints = X.shape[0]\n",
    "    iterations = 5\n",
    "    lr = 0.01\n",
    "    i = 0\n",
    "    while i < iterations:\n",
    "        preds = X * m + b\n",
    "        dm =(-2/npoints)* np.sum(X * (Y - preds))\n",
    "        db = (-2/npoints)*(np.sum(Y - preds))\n",
    "        m -= (dm * lr)\n",
    "        b -= (db * lr)\n",
    "        \n",
    "        i += 1\n",
    "    return m, b"
   ]
  },
  {
   "cell_type": "code",
   "execution_count": null,
   "id": "9b02c2b4",
   "metadata": {},
   "outputs": [],
   "source": []
  },
  {
   "cell_type": "code",
   "execution_count": null,
   "id": "7e9433b6",
   "metadata": {},
   "outputs": [],
   "source": []
  },
  {
   "cell_type": "markdown",
   "id": "32d7f175",
   "metadata": {},
   "source": [
    "## Plot the Estimate Line\n",
    "Initial estimate given arbitrary variance."
   ]
  },
  {
   "cell_type": "code",
   "execution_count": 70,
   "id": "feac8c86",
   "metadata": {},
   "outputs": [
    {
     "name": "stdout",
     "output_type": "stream",
     "text": [
      "4.281364105279622 1.2622328750877394\n",
      "4.281364105279622 1.2622328750877394\n",
      "4.281364105279622 1.2622328750877394\n",
      "4.281364105279622 1.2622328750877394\n",
      "4.281364105279622 1.2622328750877394\n"
     ]
    },
    {
     "data": {
      "image/png": "[encoded data removed]",
      "text/plain": [
       "<Figure size 432x288 with 1 Axes>"
      ]
     },
     "metadata": {
      "needs_background": "light"
     },
     "output_type": "display_data"
    }
   ],
   "source": [
    "i = 0\n",
    "while i < 5:\n",
    "    a, b = optimize(X, Y)\n",
    "    print(a,b)\n",
    "    preds = X * b + a\n",
    "    var = np.sum(np.power(Y - preds, 2) / (N - M)) \n",
    "    #print(var)\n",
    "    plt.plot(X, Y, 'b.')\n",
    "    plt.plot(X, preds, 'r')\n",
    "    i += 1\n",
    "plt.show()"
   ]
  },
  {
   "cell_type": "markdown",
   "id": "7f6a3041",
   "metadata": {},
   "source": [
    "## `sklearn`'s Linear Regression for comparison"
   ]
  },
  {
   "cell_type": "code",
   "execution_count": 55,
   "id": "0fc6a0d4",
   "metadata": {},
   "outputs": [
    {
     "data": {
      "image/png": "[encoded data removed]",
      "text/plain": [
       "<Figure size 432x288 with 1 Axes>"
      ]
     },
     "metadata": {
      "needs_background": "light"
     },
     "output_type": "display_data"
    }
   ],
   "source": [
    "model  = LinearRegression().fit(X.reshape(-1, 1), Y)\n",
    "plt.plot(X, X * model.coef_ + b)\n",
    "plt.plot(X, Y, '.')\n",
    "plt.show()\n"
   ]
  },
  {
   "cell_type": "code",
   "execution_count": null,
   "id": "88a7eeea",
   "metadata": {},
   "outputs": [],
   "source": []
  }
 ],
 "metadata": {
  "kernelspec": {
   "display_name": "Python 3 (ipykernel)",
   "language": "python",
   "name": "python3"
  },
  "language_info": {
   "codemirror_mode": {
    "name": "ipython",
    "version": 3
   },
   "file_extension": ".py",
   "mimetype": "text/x-python",
   "name": "python",
   "nbconvert_exporter": "python",
   "pygments_lexer": "ipython3",
   "version": "3.9.7"
  }
 },
 "nbformat": 4,
 "nbformat_minor": 5
}
