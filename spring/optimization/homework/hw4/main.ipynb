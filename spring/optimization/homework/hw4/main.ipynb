{
 "cells": [
  {
   "cell_type": "markdown",
   "id": "2e1ffd81-e70e-491d-a56e-f6cc9cb26a00",
   "metadata": {},
   "source": [
    "# Optimization Homework 4\n",
    "1. A cylindrical tank has its height $=h$ and the radius of the top and bottom $=r$ (both in meters). What $h$ and $r$ values will minimize the total surface area (including the top, bottom, and the side) of this cylindrical tank. We are also told that the volume of this tank has to be fixed (i.e. $\\pi r^2h= 20 m^3)$. Please reformulate the objective function to include a penalty term, and solve the problem numerically using any method we have learned (e.g. the Nelder-Mead method or DFP method).\n",
    "\n",
    "The surface area for a cylinder is $f(h, r) = 2\\pi r(h+r)$, and we are given the constraint $g(h, r) = \\pi r^2h = 20$. \n",
    "We can reformulate the objective function to an *interior* penalty method as\n",
    "$$\\varphi(h,r, r_k) = f(h, r) + r_kg(h,r)^2 = 2\\pi r(h+r) + r_k (\\pi r^2h-20)^2$$"
   ]
  },
  {
   "cell_type": "code",
   "execution_count": null,
   "id": "ce90399a-7fcb-4e53-bbea-a6700ac1b2f8",
   "metadata": {},
   "outputs": [],
   "source": [
    "import math\n",
    "import numpy as np\n",
    "\n",
    "# Objective function with penalty term\n",
    "def obj(h, r, rk=1):\n",
    "    first = 2 * math.pi * r * (h + r)\n",
    "    sec = rk * math.pow((math.pi * (r ** 2) * h - 20), 2)\n",
    "    return first + sec\n",
    "    "
   ]
  },
  {
   "cell_type": "markdown",
   "id": "c09b1747-192e-4a85-8106-c7c27ddc7223",
   "metadata": {},
   "source": [
    "## Nelder Mead\n",
    "**Note**: In the book, it's suggested that for equality constraints, we have $H(r_k) = \\frac{1}{\\sqrt{r_k}}$, whereas in the class notes we just use $r_k$. I think both should be ok as long as we choose $r_k$ well each iteration."
   ]
  },
  {
   "cell_type": "code",
   "execution_count": null,
   "id": "30ab1e88-15c7-43c2-b186-fe35d341e4ba",
   "metadata": {},
   "outputs": [],
   "source": [
    "tol = .01\n",
    "# Initial simplex\n",
    "simp = np.array([[0, 0],\n",
    "                 [1, 0]\n",
    "                 [1, 1]\n",
    "                ])\n",
    "while "
   ]
  }
 ],
 "metadata": {
  "kernelspec": {
   "display_name": "Python 3 (ipykernel)",
   "language": "python",
   "name": "python3"
  },
  "language_info": {
   "codemirror_mode": {
    "name": "ipython",
    "version": 3
   },
   "file_extension": ".py",
   "mimetype": "text/x-python",
   "name": "python",
   "nbconvert_exporter": "python",
   "pygments_lexer": "ipython3",
   "version": "3.10.4"
  }
 },
 "nbformat": 4,
 "nbformat_minor": 5
}
