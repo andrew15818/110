{
 "cells": [
  {
   "cell_type": "markdown",
   "id": "2e1ffd81-e70e-491d-a56e-f6cc9cb26a00",
   "metadata": {},
   "source": [
    "# Optimization Homework 4\n",
    "1. A cylindrical tank has its height $=h$ and the radius of the top and bottom $=r$ (both in meters). What $h$ and $r$ values will minimize the total surface area (including the top, bottom, and the side) of this cylindrical tank. We are also told that the volume of this tank has to be fixed (i.e. $\\pi r^2h= 20 m^3)$. Please reformulate the objective function to include a penalty term, and solve the problem numerically using any method we have learned (e.g. the Nelder-Mead method or DFP method).\n",
    "\n",
    "The surface area for a cylinder is $f(h, r) = 2\\pi r(h+r)$, and we are given the constraint $g(h, r) = \\pi r^2h = 20$. \n",
    "We can reformulate the objective function to an *interior* penalty method as\n",
    "$$\\varphi(h,r, r_k) = f(h, r) + r_kg(h,r)^2 = 2\\pi r(h+r) + r_k (\\pi r^2h-20)^2$$"
   ]
  },
  {
   "cell_type": "code",
   "execution_count": 74,
   "id": "ce90399a-7fcb-4e53-bbea-a6700ac1b2f8",
   "metadata": {},
   "outputs": [],
   "source": [
    "import math\n",
    "import numpy as np\n",
    "\n",
    "# Objective function with penalty term\n",
    "def obj(point, rk=1):\n",
    "    h, r = point[0], point[1]\n",
    "    first = 2 * math.pi * r * (h + r)\n",
    "    sec = rk * math.pow((math.pi * (r ** 2) * h - 20), 2)\n",
    "    return first + sec\n",
    "    "
   ]
  },
  {
   "cell_type": "markdown",
   "id": "c09b1747-192e-4a85-8106-c7c27ddc7223",
   "metadata": {},
   "source": [
    "## Nelder Mead\n",
    "**Note**: In the book, it's suggested that for equality constraints, we have $H(r_k) = \\frac{1}{\\sqrt{r_k}}$, whereas in the class notes we just use $r_k$. I think both should be ok as long as we choose $r_k$ well each iteration."
   ]
  },
  {
   "cell_type": "code",
   "execution_count": 81,
   "id": "30ab1e88-15c7-43c2-b186-fe35d341e4ba",
   "metadata": {},
   "outputs": [
    {
     "name": "stdout",
     "output_type": "stream",
     "text": [
      "Approximate optimal point: [2.90791829 1.45395915]\n"
     ]
    }
   ],
   "source": [
    "tol = .001\n",
    "alpha, beta, gamma = 1, 2, 0.5\n",
    "\n",
    "# Initial simplex\n",
    "simp = np.array([[0, 0],\n",
    "                 [10, 0],\n",
    "                 [-10, -10]\n",
    "                ])\n",
    "while True:\n",
    "    # Get the minimum and maximum points\n",
    "    minval, maxval = obj(simp[0,:]), obj(simp[0,:])\n",
    "    vals = np.apply_along_axis(obj, 1, simp)\n",
    "    \n",
    "    xmin = simp[np.argmin(vals)]\n",
    "    xmax = simp[np.argmax(vals)]\n",
    "    xmed = simp[np.argsort(vals)[1]]\n",
    "    if np.linalg.norm(xmin - xmax) < tol:\n",
    "        break\n",
    "        \n",
    "    xa = (xmin + xmed ) / 2\n",
    "    \n",
    "    xr = xa + alpha*(xa - xmax)\n",
    "    \n",
    "    if obj(xmin) > obj(xr):\n",
    "        # Expansion point\n",
    "        xe = xa + gamma * (xr - xa)\n",
    "        xmax = xe if obj(xr) > obj(xe) else xr\n",
    "        simp = np.array([xmin, xmed, xmax])\n",
    "        continue\n",
    "    if obj(xmed) > obj(xr):\n",
    "        xmax = xr\n",
    "        simp = np.array([xmin, xmed, xmax])\n",
    "        continue\n",
    "    xp = xr if obj(xr) < obj(xmax) else xmax\n",
    "    xc = xa + beta * (xp - xa)\n",
    "    if obj(xc) > obj(xp):\n",
    "        simp = simp + (xmin - simp) / 2\n",
    "        continue\n",
    "    else:\n",
    "        simp = np.array([xmin, xmed, xc])\n",
    "    \n",
    "print(f'Approximate optimal point: {np.mean(simp, axis=0)}')"
   ]
  },
  {
   "cell_type": "markdown",
   "id": "01197b6c-aedf-4f93-941c-590c2b2fc2c7",
   "metadata": {},
   "source": [
    "## 2\n",
    "Solve the following muscle force distribution problem. The $F_i$ values are to be solved. Values of $A_i, M_i$, and $d_i$ are given below.\n",
    "Minimize\n",
    "$$Z=\\sum_{i=1}^{9}(\\frac{F_i}{A_i})^n, n = 2$$\n",
    "\n",
    "subject to\n",
    "$$f_1 = d_1F_1-d_2F_2-d_{3a}F_3 - M_1=0$$\n",
    "$$f_2 = -d_{3k}F_3 + d_4F_4 + d_{5k}F_5 -d_6F_6 - d_{7k}F_7 -M_2 = 0$$\n",
    "$$f_3 = d_{5b}F_5 -d_{7b}F_{7}+d_8F_8 -d_9F_9-M_3=0$$\n",
    "$$F_i\\geq0 (i=1,2,\\dots, 9)$$\n",
    "\n",
    "The values of the constants are gien below:\n",
    "$$M_1 ==4, M_2 = 33, M_3=31$$\n",
    "The values of $d_1, d_2, d_{3a}, d_4, d_{5k}, d_{5h}, d_6, d_{7k}, d_{7h}, d_8, d_9$ are included in the following vector: $d=[0.0298 ,0.044 ,0.044 0.0138 ,0.0329 ,0.0329, 0.0279, 0.025 ,0.025 ,0.0619 ,0.0317 ,0.0368]$.\n",
    "The values of $A_i$ are also included in the vector $A=[11.5, 92.5, 44.3 98.1, 20.1, 6.1, 45.5, 31.0, 44.3]$"
   ]
  },
  {
   "cell_type": "code",
   "execution_count": null,
   "id": "dc04cfb9-167a-4f4c-bfa8-dbe19e6d5cd3",
   "metadata": {},
   "outputs": [],
   "source": []
  }
 ],
 "metadata": {
  "kernelspec": {
   "display_name": "Python 3 (ipykernel)",
   "language": "python",
   "name": "python3"
  },
  "language_info": {
   "codemirror_mode": {
    "name": "ipython",
    "version": 3
   },
   "file_extension": ".py",
   "mimetype": "text/x-python",
   "name": "python",
   "nbconvert_exporter": "python",
   "pygments_lexer": "ipython3",
   "version": "3.10.4"
  }
 },
 "nbformat": 4,
 "nbformat_minor": 5
}
