{
 "cells": [
  {
   "cell_type": "markdown",
   "id": "12748691-72f3-452d-bf00-1065df9b3a60",
   "metadata": {},
   "source": [
    "# Optimization Hw5\n",
    "## 1\n",
    "So far we have learned two ways to deal with linear programming problems. One way is using the simplex algorithm, and the other is using\n",
    "interior point methods. Pick any two LP problems. Perform optimization\n",
    "with both kinds of approaches. For each test problem, comment on teh accuracy and convergence speed of the two approaches.\n",
    "\n",
    "The first problem we are going to optimize is 3.45 from the book by Rao.\n",
    "$$f=240x_1 + 104x_2 + 60x_3 + 19x_4$$\n",
    "s.t.\n",
    "$$20x_1 + 9x_2 + 6x_3 + x_4\\leq 20$$\n",
    "$$10x_1 + 4x_2 + 2x_3 + x_4\\leq 10$$\n",
    "$$x_i \\geq 0, i=1,\\dots,4$$\n",
    "\n",
    "[Source](https://radzion.com/blog/operations/simplex) for the simplex algorithm."
   ]
  },
  {
   "cell_type": "code",
   "execution_count": 1,
   "id": "5c7d041b-c616-486d-801c-b3ac9547661a",
   "metadata": {},
   "outputs": [],
   "source": [
    "import numpy as np\n",
    "import math\n",
    "import numba"
   ]
  },
  {
   "cell_type": "code",
   "execution_count": 2,
   "id": "3cbb1f2f-f1c6-427b-acfb-2c04eba0d4a5",
   "metadata": {},
   "outputs": [],
   "source": [
    "def simplex(c, A, b):\n",
    "    iterations = 0\n",
    "    table = to_tableau(c, A, b)\n",
    "    while not_solved(table):\n",
    "        iterations += 1\n",
    "        pivot_position = get_pivot(table)\n",
    "        table = pivot_step(table, pivot_position)\n",
    "    return (get_solution(table), iterations)\n",
    "def to_tableau(c, A, b):\n",
    "    xb = [eq + [x] for eq, x in zip(A, b)]\n",
    "    z = c + [0]\n",
    "    return xb + [z]\n",
    "\n",
    "# Check if this is the best solution\n",
    "def not_solved(table):\n",
    "    z = table[-1]\n",
    "    return any( x > 0 for x in z[:-1])\n",
    "def get_pivot(table):\n",
    "    z = table[-1]\n",
    "    column = next(i for i, x in enumerate(z[:-1]) if x > 0)\n",
    "     \n",
    "    restrictions = []\n",
    "    for eq in table[:-1] :\n",
    "        el = eq[column]\n",
    "        restrictions.append(math.inf if el <= 0 else eq[-1] / el)\n",
    "    row = restrictions.index(min(restrictions))\n",
    "    return row, column\n",
    "\n",
    "def pivot_step(table, pivot_position):\n",
    "    new_table = [[] for eq in table]\n",
    "    i, j = pivot_position\n",
    "    pivot_value = table[i][j]\n",
    "    new_table[i] = np.array(table[i]) / pivot_value \n",
    "    \n",
    "    for eq_i, eq in enumerate(table):\n",
    "        if eq_i != i:\n",
    "            multiplier = np.array(new_table[i]) * table[eq_i][j]\n",
    "            new_table[eq_i] = np.array(table[eq_i]) - multiplier\n",
    "    return new_table\n",
    "\n",
    "def is_basic(column):\n",
    "    return sum(column) == 1 and len([c for c in column if c == 0]) == len(column) -1\n",
    "\n",
    "def get_solution(table):\n",
    "    columns = np.array(table).T\n",
    "    solutions = []\n",
    "    for column in columns[:-1]:\n",
    "        solution = 0\n",
    "        if is_basic(column):\n",
    "            one_index = column.tolist().index(1)\n",
    "            solution = columns[-1][one_index]\n",
    "        solutions.append(solution)\n",
    "    return solutions"
   ]
  },
  {
   "cell_type": "markdown",
   "id": "73a32178-9c18-4e4d-90c1-13ef1f9982d2",
   "metadata": {},
   "source": [
    "### Prime Affine Scaling algorithm\n",
    "[Source](https://computsimu.blogspot.com/2015/07/interior-point-method-primal-affine.html)\n",
    "[Source](https://github.com/manymuch/AffineScaling)"
   ]
  },
  {
   "cell_type": "code",
   "execution_count": 3,
   "id": "ed3c4d38-94af-4d67-b944-fac632ad6192",
   "metadata": {},
   "outputs": [],
   "source": []
  },
  {
   "cell_type": "code",
   "execution_count": 7,
   "id": "fa42308f-5e9e-423b-9e3f-105f49293e0c",
   "metadata": {},
   "outputs": [],
   "source": [
    "from HelperFunction import LinProgBaseClass, StandardFormTransformer\n",
    "\n",
    "\n",
    "class PAS(LinProgBaseClass):\n",
    "\n",
    "    # epsilon is optimality threshold\n",
    "    # beta is the stepsize that controling the elipsoid size\n",
    "    def __init__(self, A, b, c, x, epsilon=1e-2, beta=0.1, trace=False):\n",
    "        super(PAS, self).__init__(A, b, c, x, trace=trace)\n",
    "\n",
    "        if beta <= 0 or beta >= 1:\n",
    "            raise RuntimeError(\"beta must between (0,1)\")\n",
    "        if epsilon <= 0:\n",
    "            raise RuntimeError(\"epsilon must be positive\")\n",
    "\n",
    "        self.X_k = np.diag(x[:, 0])\n",
    "        self.p_k = None\n",
    "        self.r_k = None\n",
    "        self.epsilon = epsilon  # optimality threshold\n",
    "        self.beta = beta\n",
    "\n",
    "    # reached optimal: return true\n",
    "    def __OptimalityCheck(self):\n",
    "        distance = np.sum(self.X_k @ self.r_k)\n",
    "        #  dual feasibliity and optimality\n",
    "        return distance > 0 and distance < self.epsilon\n",
    "\n",
    "    # unbounded: return true\n",
    "    def __UnboundenessCheck(self):\n",
    "        reduced_cost = - self.X_k @ self.X_k @ self.r_k\n",
    "        return np.all(np.greater_equal(reduced_cost, 0))\n",
    "\n",
    "    def __Caculate_r(self):\n",
    "        self.p_k = np.linalg.inv(self.A @ self.X_k @ self.X_k @ np.transpose(\n",
    "            self.A)) @ self.A @ self.X_k @ self.X_k @ self.c\n",
    "        self.r_k = self.c - np.transpose(self.A) @ self.p_k\n",
    "\n",
    "    def __Update_X(self):\n",
    "        move = self.X_k @ self.X_k @ self.r_k / \\\n",
    "            self.__gamma(self.X_k @ self.r_k)\n",
    "        move = np.diag(move[:, 0])\n",
    "        self.X_k = self.X_k - self.beta * move\n",
    "    \n",
    "    def __gamma(self, input):\n",
    "        clipped = np.clip(input, 0, None)\n",
    "        return np.max(clipped)\n",
    "\n",
    "    def Run(self):\n",
    "        self.__Caculate_r()\n",
    "        iterations = 0\n",
    "        while not self.__OptimalityCheck():\n",
    "            iterations += 1\n",
    "            if self.__UnboundenessCheck():\n",
    "                print(\"the input LP problem is unbounded\")\n",
    "                return None\n",
    "            self.__Update_X()\n",
    "            self.__Caculate_r()\n",
    "            if self.trace:\n",
    "                expanded_X = np.expand_dims(np.diag(self.X_k),axis=0)\n",
    "                self.traces = np.concatenate((self.traces,expanded_X),axis=0)\n",
    "        return np.diag(self.X_k), iterations\n",
    "    \n",
    "    def GetTraces(self):\n",
    "        return self.traces\n",
    "\n"
   ]
  },
  {
   "cell_type": "code",
   "execution_count": 8,
   "id": "8ed98e86-871f-44e8-8be1-8dd426a3324e",
   "metadata": {},
   "outputs": [
    {
     "name": "stdout",
     "output_type": "stream",
     "text": [
      "[0, 2.0, 0, 2.0, 0, 0] 3\n"
     ]
    }
   ],
   "source": [
    "# Using simplex method\n",
    "c = [240, 104, 60, 19, 0, 0]\n",
    "A = [\n",
    "    [20, 9, 6, 1, 1, 0],\n",
    "    [10, 4, 2, 1, 0, 1]\n",
    "]\n",
    "b = [20, 10]\n",
    "solution, iterations = simplex(c, A, b)\n",
    "print(solution, iterations)"
   ]
  },
  {
   "cell_type": "code",
   "execution_count": 11,
   "id": "89f5e38b-dbd9-41da-9e04-a2e0ac7d3b47",
   "metadata": {},
   "outputs": [
    {
     "name": "stdout",
     "output_type": "stream",
     "text": [
      "(2, 6) (2, 1) (6, 1) (6, 1)\n",
      "True\n",
      "Solution [9.68162989e-06 2.23420424e-05 3.87259177e-05 1.22282500e-04\n",
      " 1.99992507e+01 9.99961408e+00] found in 103 iterations\n"
     ]
    }
   ],
   "source": [
    "c = np.array([240, 104, 60, 19, ]).reshape((1,4)).T\n",
    "b = np.array(b).reshape((2, 1))\n",
    "A = np.array([\n",
    "    [20, 9, 6, 1],\n",
    "    [10, 4, 2, 1]\n",
    "])\n",
    "\n",
    "x_origin = np.asarray([[0.5, 0.5, 0.5, 0.5]]).T\n",
    "\n",
    "(Anew, _, cnew, xnew) = StandardFormTransformer(A, b, c, x_origin)\n",
    "print(Anew.shape, b.shape, cnew.shape, xnew.shape)\n",
    "solver = PAS(Anew, b, cnew, xnew, trace=True)\n",
    "sol, iterations = solver.Run()\n",
    "\n",
    "print(f'Solution {sol} found in {iterations} iterations')"
   ]
  },
  {
   "cell_type": "markdown",
   "id": "bf5b3d14-b3a6-4dca-a20f-eec2969328ea",
   "metadata": {},
   "source": [
    "## 1b\n",
    "We apply to problem 3.14 in the textbook\n",
    "Maximize $$f = 19x + 7y$$\n",
    "subject to \n",
    "$$7x + 6y \\leq 42$$\n",
    "$$5x + 9y \\leq 45$$\n",
    "$$x - y \\leq 4$$\n",
    "$$x\\geq 0, y\\geq 0$$"
   ]
  },
  {
   "cell_type": "code",
   "execution_count": 15,
   "id": "8585242a-1107-414a-a210-0469ba012731",
   "metadata": {},
   "outputs": [
    {
     "name": "stdout",
     "output_type": "stream",
     "text": [
      "Solution [0, 5.0, 12.0, 0, 9.0, 0] found in 1 iterations\n"
     ]
    }
   ],
   "source": [
    "c = [-19, 7, 0, 0, 0, 0]\n",
    "A = [\n",
    "    [7, 6, 1, 0, 0, 0],\n",
    "    [5, 9, 0, 1, 0, 0],\n",
    "    [1, -1, 0, 0, 1, 0]\n",
    "]\n",
    "b = [42, 45, 4]\n",
    "solution, iterations = simplex(c, A, b)\n",
    "print(f'Solution {solution} found in {iterations} iterations')"
   ]
  },
  {
   "cell_type": "code",
   "execution_count": 21,
   "id": "9fe11c91-a6de-4271-b437-193b8f8a349f",
   "metadata": {},
   "outputs": [
    {
     "name": "stdout",
     "output_type": "stream",
     "text": [
      "True\n",
      "Solution [5.07637133e+00 1.07673736e+00 4.97648295e-03 9.92750706e+00\n",
      " 3.66029409e-04] found in 98 iterations\n"
     ]
    }
   ],
   "source": [
    "c = np.array([-19, 7]).reshape((1, 2)).T\n",
    "b = np.array(b).reshape((3, 1))\n",
    "A = np.array([\n",
    "    [7, 6 ],\n",
    "    [5, 9 ],\n",
    "    [1, -1]\n",
    "])\n",
    "x_origin = np.array([[0.5, 0.5]]).T\n",
    "(Anew, _, cnew, xnew) = StandardFormTransformer(A, b, c, x_origin)\n",
    "solver = PAS(Anew, b, cnew, xnew, trace=True)\n",
    "sol, iterations = solver.Run()\n",
    "print(f'Solution {sol} found in {iterations} iterations')"
   ]
  },
  {
   "cell_type": "markdown",
   "id": "5540c1f2-0041-4284-afbc-ab19a24ef6aa",
   "metadata": {
    "tags": []
   },
   "source": [
    "## 2\n",
    "So far we have learned two ways to deal with constrained nonlinear optimizatino problems. One way is the indirect approach (e.g. penalty functions) and the other is the direct approach (e.g. Sequential Quadratic Programming, SQP). Pick any two test functions (neither linear nor quadratic functions) with constraints. Perform optimization with both direct and indirect approaches.\n",
    "\n",
    "For the first function, we can estimate $$f(x, y) = \\sin(x + y)$$\n",
    "with the constraints\n",
    "$$x + y \\leq 2$$\n",
    "$$x + y \\geq -2$$"
   ]
  },
  {
   "cell_type": "code",
   "execution_count": 36,
   "id": "a6ba1089-61ad-47ff-8bb1-04980287dcee",
   "metadata": {},
   "outputs": [],
   "source": [
    "from scipy.optimize import minimize, rosen\n",
    "import math\n",
    "def f(x:np.array):\n",
    "    return math.sin(x[0] + x[1])"
   ]
  },
  {
   "cell_type": "code",
   "execution_count": 38,
   "id": "9f712dbf-9aaa-4f23-a09c-af30046d8ff4",
   "metadata": {},
   "outputs": [
    {
     "name": "stdout",
     "output_type": "stream",
     "text": [
      "     fun: -0.9999999999180504\n",
      "     jac: array([1.2807548e-05, 1.2807548e-05])\n",
      " message: 'Optimization terminated successfully'\n",
      "    nfev: 15\n",
      "     nit: 5\n",
      "    njev: 5\n",
      "  status: 0\n",
      " success: True\n",
      "       x: array([-0.78539176, -0.78539176])\n"
     ]
    }
   ],
   "source": [
    "# SQP\n",
    "bounds = [(-2, 2), (-2, 2)] # Bounds for x and y\n",
    "x = np.array([0, 0])\n",
    "minimizer = minimize(f, x, method='SLSQP', bounds=bounds)\n",
    "print(minimizer)"
   ]
  },
  {
   "cell_type": "code",
   "execution_count": 69,
   "id": "42b62608-eab7-4bbd-96fc-c14dff3802fc",
   "metadata": {},
   "outputs": [
    {
     "name": "stdout",
     "output_type": "stream",
     "text": [
      "[2.35611271 2.35611271] 3\n"
     ]
    }
   ],
   "source": [
    "# Interior penalty methods\n",
    "x_c = np.array([0, 0])\n",
    "h1 = lambda x: (x[0] + x[1] - 2)\n",
    "h2 = lambda x: (x[0] + x[1] + 2)\n",
    "\n",
    "i = 1\n",
    "constraints = ({'type': 'ineq', 'fun': h1},\n",
    "               {'type': 'ineq', 'fun': h2}\n",
    "    )\n",
    "while i < 100:\n",
    "    xprev = x_c\n",
    "    i += 1\n",
    "    L = lambda x: f(x) + min(0, h1(x)) ** 2 + min(0, h2(x)) ** 2\n",
    "    x_c = minimize(f, x_c, constraints=constraints).x\n",
    "    \n",
    "    if np.array_equal(xprev, x_c):\n",
    "        break\n",
    "        \n",
    "print(x_c, i)"
   ]
  },
  {
   "cell_type": "markdown",
   "id": "44222abc-7689-400d-8856-03a21e16ce62",
   "metadata": {},
   "source": [
    "## 2b\n",
    "For the second equation we are going to maximize\n",
    "$$f(x,y) = x\\sin(x + \\sin(y))$$\n",
    "subject to\n",
    "$$x + y \\leq 1$$"
   ]
  },
  {
   "cell_type": "code",
   "execution_count": 70,
   "id": "1db13ace-de70-4313-8ea1-3ed3e7f97207",
   "metadata": {},
   "outputs": [
    {
     "name": "stdout",
     "output_type": "stream",
     "text": [
      "     fun: -2.7442815484609415\n",
      "     jac: array([-0.00011867,  0.00016609])\n",
      " message: 'Optimization terminated successfully'\n",
      "    nfev: 33\n",
      "     nit: 10\n",
      "    njev: 10\n",
      "  status: 0\n",
      " success: True\n",
      "       x: array([ 2.90254668, -1.57062065])\n"
     ]
    }
   ],
   "source": [
    "## SQP\n",
    "def fnc(x:np.array):\n",
    "    return -x[0] * math.sin(x[0] + math.sin(x[1])) \n",
    "h1 = lambda x: (x[0] + x[1]  - 1)\n",
    "constraints = (\n",
    "                {'type': 'ineq', 'fun': h1}\n",
    "            )\n",
    "x = np.array([1, 0])\n",
    "minimizer = minimize(fnc, x, method='SLSQP', constraints=constraints)\n",
    "print(minimizer)"
   ]
  },
  {
   "cell_type": "code",
   "execution_count": 71,
   "id": "dc06b639-d9df-414a-aeeb-86cd6f2f257b",
   "metadata": {},
   "outputs": [
    {
     "name": "stdout",
     "output_type": "stream",
     "text": [
      "     fun: -2.744281511861129\n",
      "     jac: array([ 0.00032538, -0.00026703])\n",
      " message: 'Optimization terminated successfully'\n",
      "    nfev: 31\n",
      "     nit: 10\n",
      "    njev: 10\n",
      "  status: 0\n",
      " success: True\n",
      "       x: array([2.90267744, 4.71210667])\n",
      "Solution [2.90267744 4.71210667] found in 100 iterations\n"
     ]
    }
   ],
   "source": [
    "## Interior point\n",
    "i = 0\n",
    "x = np.array([1, 0])\n",
    "while i < 100:\n",
    "    xprev = x\n",
    "    L = lambda x: fnc(x) + min(0, h1(x)) ** 2\n",
    "    sol = minimize(L, x_c, constraints=constraints)\n",
    "    if np.array_equal(sol.x, xprev):\n",
    "        break\n",
    "    i += 1\n",
    "print(sol)\n",
    "print(f\"Solution {sol.x} found in {i} iterations\")"
   ]
  },
  {
   "cell_type": "code",
   "execution_count": null,
   "id": "2d2a89da-f540-4ec7-a99c-4148ae68d2f2",
   "metadata": {},
   "outputs": [],
   "source": []
  }
 ],
 "metadata": {
  "kernelspec": {
   "display_name": "Python 3 (ipykernel)",
   "language": "python",
   "name": "python3"
  },
  "language_info": {
   "codemirror_mode": {
    "name": "ipython",
    "version": 3
   },
   "file_extension": ".py",
   "mimetype": "text/x-python",
   "name": "python",
   "nbconvert_exporter": "python",
   "pygments_lexer": "ipython3",
   "version": "3.10.4"
  }
 },
 "nbformat": 4,
 "nbformat_minor": 5
}
